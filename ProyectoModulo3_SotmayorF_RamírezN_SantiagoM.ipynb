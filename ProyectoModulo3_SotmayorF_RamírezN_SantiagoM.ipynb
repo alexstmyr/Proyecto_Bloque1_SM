{
 "cells": [
  {
   "cell_type": "markdown",
   "id": "05d0fdda",
   "metadata": {},
   "source": [
    "# Modelo SIR (Susceptibles, Infectados, Recuperados)"
   ]
  },
  {
   "cell_type": "markdown",
   "id": "0e17119d",
   "metadata": {},
   "source": [
    "## Integrantes:\n",
    "- Francisco Alexander Sotomayor Pineda\n",
    "- Nicolás Ramírez Castro\n",
    "- Mónica Santiago Hernández"
   ]
  },
  {
   "cell_type": "markdown",
   "id": "aafa6d61",
   "metadata": {},
   "source": [
    "## Objetivos generales:\n",
    "- Caracterizar la evolución de una epidemia que se propaga mediante contagio entre los individuos de una población."
   ]
  },
  {
   "cell_type": "markdown",
   "id": "269a5f8d",
   "metadata": {},
   "source": [
    "## Objetivos específicos:\n",
    "- Poner en práctica el conocimiento adquirido en el módulo 3 del curso.\n",
    "- Hacer uso del modelo de Kermack y McKendrick para relacionar las variaciones de las tres poblaciones (Susceptible, Infectada y Recuperada) a través de la tasa de infección y el período infeccioso promedio."
   ]
  },
  {
   "cell_type": "markdown",
   "id": "3066d376",
   "metadata": {},
   "source": [
    "## Modelo que representa el problema\n",
    "El modelo básico SIR (Susceptibles-Infectados-Recuperados) de Kermack y McKendrick es un modelo de compartimentos donde la población bajo estudio se divide en clases epidemiológicas y se describe un flujo entre ellas; en este modelo el compartimento del centro mide la prevalencia, es decir, el número de casos de una enfermedad en la población en un tiempo dado, o sea, I(t).\n",
    "\n",
    "El modelo básico SIR de Kermack y McKendrick asume que la población total N se mantiene constante en el tiempo, o sea, es la suma de los susceptibles más los infectados más los recuperados: <br>\n",
    "\n",
    "$$ N = S(t) + I(t) + R(t) $$\n",
    "\n",
    "La transmisión es por contacto directo. Para transmitir la infección, un infeccioso hace contacto con βN individuos por unidad de tiempo. La probabilidad de contacto entre un infeccioso y un susceptible es S/N, luego el número de nuevas infecciones por unidad de tiempo es (βN)(S/N)I= βS I. Es decir, un infeccioso transmite la enfermedad con una tasa de contagio β, según la ley de acción de masas. Esto significa que los cambios en la población susceptible también se comportan según la ley de acción de masas. Por otra parte, una fracción ν de infectados por unidad de tiempo deja esa clase para convertirse en recuperados con inmunidad permanente. Esto conduce al sistema de ecuaciones diferenciales del modelo SIR: <br>\n",
    "\n",
    "$$ \\frac {d}{dt} S(t) = -BS(t)I(t) $$\n",
    "$$ \\frac {d}{dt} I(t) = BS(t)I(t) - vI(t) $$\n",
    "$$ \\frac {d}{dt} R(t) = vI(t) $$"
   ]
  },
  {
   "cell_type": "markdown",
   "id": "ca99ae54",
   "metadata": {},
   "source": [
    "## Proceso"
   ]
  },
  {
   "cell_type": "markdown",
   "id": "786723df",
   "metadata": {},
   "source": [
    "Importar las bibliotecas"
   ]
  },
  {
   "cell_type": "code",
   "execution_count": 1,
   "id": "ef8eb6bd",
   "metadata": {},
   "outputs": [],
   "source": [
    "import numpy as np\n",
    "from scipy.integrate import odeint\n",
    "import matplotlib.pyplot as plt"
   ]
  },
  {
   "cell_type": "markdown",
   "id": "1586c7be",
   "metadata": {},
   "source": [
    "Ponemos la población total a considerar, además agregamos: los valores iniciales de personas infectadas (I0), las personas que se recuperaron (R0) y las personas que están sujetas a infección inicialmente (S0), las cuales son el resto de la población. Utilizaremos la población mexicana actual. Habrá 1 infectado y 0 personas recuperadas."
   ]
  },
  {
   "cell_type": "code",
   "execution_count": 2,
   "id": "980091be",
   "metadata": {},
   "outputs": [],
   "source": [
    "N = 126014024\n",
    "I0, R0 = 1, 0\n",
    "S0 = N - I0 - R0"
   ]
  },
  {
   "cell_type": "markdown",
   "id": "008c6d1f",
   "metadata": {},
   "source": [
    "Obtenemos la Tasa de transmisión el cuál está representado por beta (β) y la Tasa de recuperación en 1/días representado por gamma (γ). \n",
    "Establecemos el tiempo durante el cual vamos a simular el comportamiento de la enfermedad. En este caso utilizaremos 30 días."
   ]
  },
  {
   "cell_type": "code",
   "execution_count": 5,
   "id": "fdedacec",
   "metadata": {},
   "outputs": [],
   "source": [
    "beta, gamma = 2.2, 1./5.2\n",
    "t = np.linspace(0, 30, 31)"
   ]
  },
  {
   "cell_type": "markdown",
   "id": "71ef0756",
   "metadata": {},
   "source": [
    "Utilizamos las ecuaciones diferenciales del modelo SIR."
   ]
  },
  {
   "cell_type": "code",
   "execution_count": 6,
   "id": "04785007",
   "metadata": {},
   "outputs": [],
   "source": [
    "def deriv(y, t, N, beta, gamma):\n",
    "    S, I, R = y\n",
    "    dSdt = -beta * S * I / N\n",
    "    dIdt = beta * S * I / N - gamma * I\n",
    "    dRdt = gamma * I\n",
    "    return dSdt, dIdt, dRdt"
   ]
  },
  {
   "cell_type": "markdown",
   "id": "6615e7ce",
   "metadata": {},
   "source": [
    "Obtenemos el Vector de las condiciones iniciales y resolvemos el sistema de ecuaciones diferenciales, en la secuencia de días que ya definimos."
   ]
  },
  {
   "cell_type": "code",
   "execution_count": 7,
   "id": "9b877daf",
   "metadata": {},
   "outputs": [],
   "source": [
    "y0 = S0, I0, R0\n",
    "ret = odeint(deriv, y0, t, args=(N, beta, gamma))\n",
    "S, I, R = ret.T"
   ]
  },
  {
   "cell_type": "markdown",
   "id": "80d41a1f",
   "metadata": {},
   "source": [
    "## Visualización de los resultados"
   ]
  },
  {
   "cell_type": "markdown",
   "id": "b979db81",
   "metadata": {},
   "source": [
    "Trazamos los datos en tres curvas separadas para S(t), I(t) y R(t):"
   ]
  },
  {
   "cell_type": "code",
   "execution_count": 17,
   "id": "4ad10acb",
   "metadata": {},
   "outputs": [
    {
     "name": "stderr",
     "output_type": "stream",
     "text": [
      "/var/folders/zc/nh109mkj6pld9slq4vyqbcnm0000gn/T/ipykernel_1591/2701628032.py:10: MatplotlibDeprecationWarning: The 'b' parameter of grid() has been renamed 'visible' since Matplotlib 3.5; support for the old name will be dropped two minor releases later.\n",
      "  ax.grid(b=True, which='major', c='w', lw=2, ls='-')\n"
     ]
    },
    {
     "data": {
      "image/png": "[encoded data removed]",
      "text/plain": [
       "<Figure size 432x288 with 1 Axes>"
      ]
     },
     "metadata": {},
     "output_type": "display_data"
    }
   ],
   "source": [
    "fig = plt.figure(facecolor='w')\n",
    "ax = fig.add_subplot(111, facecolor='#dddddd', axisbelow=True)\n",
    "ax.plot(t, S/100000, 'b', alpha=0.5, lw=2, label='Susceptible')\n",
    "ax.plot(t, I/100000, 'r', alpha=0.5, lw=2, label='Infectado')\n",
    "ax.plot(t, R/100000, 'g', alpha=0.5, lw=2, label='Recuperación')\n",
    "ax.set_xlabel('Tiempo /días')\n",
    "ax.set_ylabel('Número (100000s)')\n",
    "ax.yaxis.set_tick_params(length=0)\n",
    "ax.xaxis.set_tick_params(length=0)\n",
    "ax.grid(b=True, which='major', c='w', lw=2, ls='-')\n",
    "legend = ax.legend()\n",
    "legend.get_frame().set_alpha(0.5)\n",
    "for spine in ('top', 'right', 'bottom', 'left'):\n",
    "    ax.spines[spine].set_visible(False)\n",
    "plt.show()"
   ]
  },
  {
   "cell_type": "markdown",
   "id": "a408e6a0",
   "metadata": {},
   "source": [
    "## Conclusiones\n",
    "Es importante conocer cómo se comportan las enfermedades extremadamente contagiosas, especialmente en poblaciones tan grandes como la mexicana. Podemos observar cómo la tasa de infectados crece de manera exponencial. Los recuperados también crecen conforme pasa el tiempo y la tasa de infectados empieza a disminuir. \n",
    "Es obvio que la simulación no es muy apegada a la realidad, pues existen otros factores que también influyen en la evolución de la enfermedad dentro de la población, sin embargo podemos observar como el mejor escenario para una pronta recuperación de la población en una pandemia como la de nuestro proyecto es que la población se infecte rápidamente. Podemos observar en la gráfica que el pico de infectados ocurrió entre los días 10 y 12, de ahí en adelante fue decreciendo hasta que en el día 30 se acercó a los 0 infectados. "
   ]
  },
  {
   "cell_type": "markdown",
   "id": "f0b209d0",
   "metadata": {},
   "source": [
    "## Referencias\n",
    "- (2020). Modelos matemáticos. Disponible en: http://www.scielo.org.co/scielo.php?pid=S1657-95342020000200009&script=sci_arttext&tlng=es .[Consultado el 30 de noviembre de 2022]\n",
    "- Martín Barroso, Víctor. (2020). Una breve introducción al modelo SIR. Disponible en: https://eprints.ucm.es/id/eprint/60026/ .[Consultado el 30 de noviembre de 2022]"
   ]
  },
  {
   "cell_type": "code",
   "execution_count": null,
   "id": "fe8108cd",
   "metadata": {},
   "outputs": [],
   "source": []
  }
 ],
 "metadata": {
  "kernelspec": {
   "display_name": "Python 3 (ipykernel)",
   "language": "python",
   "name": "python3"
  },
  "language_info": {
   "codemirror_mode": {
    "name": "ipython",
    "version": 3
   },
   "file_extension": ".py",
   "mimetype": "text/x-python",
   "name": "python",
   "nbconvert_exporter": "python",
   "pygments_lexer": "ipython3",
   "version": "3.9.12"
  }
 },
 "nbformat": 4,
 "nbformat_minor": 5
}
